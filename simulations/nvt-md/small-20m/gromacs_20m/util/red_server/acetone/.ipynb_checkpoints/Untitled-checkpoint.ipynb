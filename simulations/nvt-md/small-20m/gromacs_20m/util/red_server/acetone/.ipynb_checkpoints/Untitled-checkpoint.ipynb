{
 "cells": [
  {
   "cell_type": "code",
   "execution_count": 2,
   "metadata": {},
   "outputs": [],
   "source": [
    "import numpy as np\n",
    "import mbuild as mb"
   ]
  },
  {
   "cell_type": "code",
   "execution_count": 3,
   "metadata": {},
   "outputs": [
    {
     "name": "stderr",
     "output_type": "stream",
     "text": [
      "//anaconda3/envs/myenv/lib/python3.7/site-packages/ipykernel/ipkernel.py:287: DeprecationWarning: `should_run_async` will not call `transform_cell` automatically in the future. Please pass the result to `transformed_cell` argument and any exception that happen during thetransform in `preprocessing_exc_tuple` in IPython 7.17 and above.\n",
      "  and should_run_async(code)\n"
     ]
    }
   ],
   "source": [
    "acetone = mb.load(\"/Users/xiaobolin/signac/acetone_li_xiaobo/src/util/lib/mol2/acetone.mol2\")"
   ]
  },
  {
   "cell_type": "code",
   "execution_count": 5,
   "metadata": {},
   "outputs": [
    {
     "name": "stderr",
     "output_type": "stream",
     "text": [
      "//anaconda3/envs/myenv/lib/python3.7/site-packages/ipykernel/ipkernel.py:287: DeprecationWarning: `should_run_async` will not call `transform_cell` automatically in the future. Please pass the result to `transformed_cell` argument and any exception that happen during thetransform in `preprocessing_exc_tuple` in IPython 7.17 and above.\n",
      "  and should_run_async(code)\n"
     ]
    }
   ],
   "source": [
    "from foyer import Forcefield\n",
    "opls = Forcefield(name=\"oplsaa\")\n",
    "acetone_tPM = opls.apply(acetone)"
   ]
  },
  {
   "cell_type": "code",
   "execution_count": 4,
   "metadata": {},
   "outputs": [
    {
     "name": "stderr",
     "output_type": "stream",
     "text": [
      "//anaconda3/envs/myenv/lib/python3.7/site-packages/ipykernel/ipkernel.py:287: DeprecationWarning: `should_run_async` will not call `transform_cell` automatically in the future. Please pass the result to `transformed_cell` argument and any exception that happen during thetransform in `preprocessing_exc_tuple` in IPython 7.17 and above.\n",
      "  and should_run_async(code)\n"
     ]
    },
    {
     "data": {
      "application/3dmoljs_load.v0": "<div id=\"3dmolviewer_16010655472342331\"  style=\"position: relative; width: 640px; height: 480px\">\n        <p id=\"3dmolwarning_16010655472342331\" style=\"background-color:#ffcccc;color:black\">You appear to be running in JupyterLab (or JavaScript failed to load for some other reason).  You need to install the 3dmol extension: <br>\n        <tt>jupyter labextension install jupyterlab_3dmol</tt></p>\n        </div>\n<script>\n\nvar loadScriptAsync = function(uri){\n  return new Promise((resolve, reject) => {\n    var tag = document.createElement('script');\n    tag.src = uri;\n    tag.async = true;\n    tag.onload = () => {\n      resolve();\n    };\n  var firstScriptTag = document.getElementsByTagName('script')[0];\n  firstScriptTag.parentNode.insertBefore(tag, firstScriptTag);\n});\n};\n\nif(typeof $3Dmolpromise === 'undefined') {\n$3Dmolpromise = null;\n  $3Dmolpromise = loadScriptAsync('https://3dmol.csb.pitt.edu/build/3Dmol.js');\n}\n\nvar viewer_16010655472342331 = null;\nvar warn = document.getElementById(\"3dmolwarning_16010655472342331\");\nif(warn) {\n    warn.parentNode.removeChild(warn);\n}\n$3Dmolpromise.then(function() {\nviewer_16010655472342331 = $3Dmol.createViewer($(\"#3dmolviewer_16010655472342331\"),{backgroundColor:\"white\"});\n\tviewer_16010655472342331.addModel(\"@<TRIPOS>MOLECULE\\nRES\\n10 9 1 0 1\\nSMALL\\nNO_CHARGES\\n@<TRIPOS>CRYSIN\\n    8.1866     8.2852     6.7799    90.0000    90.0000    90.0000  1  1\\n@<TRIPOS>ATOM\\n       1 C           -0.0184     1.5028     0.0103 C             1 RES     \\n       2 C            0.0021    -0.0041     0.0020 C             1 RES     \\n       3 C            1.2763     2.2740     0.0021 C             1 RES     \\n       4 O           -1.0723     2.0923     0.0185 O             1 RES     \\n       5 H            1.0345    -0.3534    -0.0097 H             1 RES     \\n       6 H           -0.4983    -0.3791     0.8948 H             1 RES     \\n       7 H           -0.5153    -0.3696    -0.8850 H             1 RES     \\n       8 H            2.1143     1.5770    -0.0097 H             1 RES     \\n       9 H            1.3171     2.9061    -0.8849 H             1 RES     \\n      10 H            1.3341     2.8966     0.8949 H             1 RES     \\n@<TRIPOS>BOND\\n       1        2        6 1\\n       2        1        4 1\\n       3        2        5 1\\n       4        3       10 1\\n       5        1        3 1\\n       6        3        8 1\\n       7        1        2 1\\n       8        3        9 1\\n       9        2        7 1\\n@<TRIPOS>SUBSTRUCTURE\\n       1 RES             1 RESIDUE    0 **** ROOT      0\\n\",\"mol2\");\n\tviewer_16010655472342331.setStyle({\"stick\": {\"radius\": 0.2, \"color\": \"grey\"}, \"sphere\": {\"scale\": 0.3, \"colorscheme\": {}}});\n\tviewer_16010655472342331.zoomTo();\nviewer_16010655472342331.render();\n});\n</script>",
      "text/html": [
       "<div id=\"3dmolviewer_16010655472342331\"  style=\"position: relative; width: 640px; height: 480px\">\n",
       "        <p id=\"3dmolwarning_16010655472342331\" style=\"background-color:#ffcccc;color:black\">You appear to be running in JupyterLab (or JavaScript failed to load for some other reason).  You need to install the 3dmol extension: <br>\n",
       "        <tt>jupyter labextension install jupyterlab_3dmol</tt></p>\n",
       "        </div>\n",
       "<script>\n",
       "\n",
       "var loadScriptAsync = function(uri){\n",
       "  return new Promise((resolve, reject) => {\n",
       "    var tag = document.createElement('script');\n",
       "    tag.src = uri;\n",
       "    tag.async = true;\n",
       "    tag.onload = () => {\n",
       "      resolve();\n",
       "    };\n",
       "  var firstScriptTag = document.getElementsByTagName('script')[0];\n",
       "  firstScriptTag.parentNode.insertBefore(tag, firstScriptTag);\n",
       "});\n",
       "};\n",
       "\n",
       "if(typeof $3Dmolpromise === 'undefined') {\n",
       "$3Dmolpromise = null;\n",
       "  $3Dmolpromise = loadScriptAsync('https://3dmol.csb.pitt.edu/build/3Dmol.js');\n",
       "}\n",
       "\n",
       "var viewer_16010655472342331 = null;\n",
       "var warn = document.getElementById(\"3dmolwarning_16010655472342331\");\n",
       "if(warn) {\n",
       "    warn.parentNode.removeChild(warn);\n",
       "}\n",
       "$3Dmolpromise.then(function() {\n",
       "viewer_16010655472342331 = $3Dmol.createViewer($(\"#3dmolviewer_16010655472342331\"),{backgroundColor:\"white\"});\n",
       "\tviewer_16010655472342331.addModel(\"@<TRIPOS>MOLECULE\\nRES\\n10 9 1 0 1\\nSMALL\\nNO_CHARGES\\n@<TRIPOS>CRYSIN\\n    8.1866     8.2852     6.7799    90.0000    90.0000    90.0000  1  1\\n@<TRIPOS>ATOM\\n       1 C           -0.0184     1.5028     0.0103 C             1 RES     \\n       2 C            0.0021    -0.0041     0.0020 C             1 RES     \\n       3 C            1.2763     2.2740     0.0021 C             1 RES     \\n       4 O           -1.0723     2.0923     0.0185 O             1 RES     \\n       5 H            1.0345    -0.3534    -0.0097 H             1 RES     \\n       6 H           -0.4983    -0.3791     0.8948 H             1 RES     \\n       7 H           -0.5153    -0.3696    -0.8850 H             1 RES     \\n       8 H            2.1143     1.5770    -0.0097 H             1 RES     \\n       9 H            1.3171     2.9061    -0.8849 H             1 RES     \\n      10 H            1.3341     2.8966     0.8949 H             1 RES     \\n@<TRIPOS>BOND\\n       1        2        6 1\\n       2        1        4 1\\n       3        2        5 1\\n       4        3       10 1\\n       5        1        3 1\\n       6        3        8 1\\n       7        1        2 1\\n       8        3        9 1\\n       9        2        7 1\\n@<TRIPOS>SUBSTRUCTURE\\n       1 RES             1 RESIDUE    0 **** ROOT      0\\n\",\"mol2\");\n",
       "\tviewer_16010655472342331.setStyle({\"stick\": {\"radius\": 0.2, \"color\": \"grey\"}, \"sphere\": {\"scale\": 0.3, \"colorscheme\": {}}});\n",
       "\tviewer_16010655472342331.zoomTo();\n",
       "viewer_16010655472342331.render();\n",
       "});\n",
       "</script>"
      ]
     },
     "metadata": {},
     "output_type": "display_data"
    },
    {
     "data": {
      "text/plain": [
       "<py3Dmol.view at 0x138a083d0>"
      ]
     },
     "execution_count": 4,
     "metadata": {},
     "output_type": "execute_result"
    }
   ],
   "source": [
    "acetone.save(\"acetone_tet\")"
   ]
  },
  {
   "cell_type": "code",
   "execution_count": null,
   "metadata": {},
   "outputs": [],
   "source": []
  }
 ],
 "metadata": {
  "kernelspec": {
   "display_name": "myenv",
   "language": "python",
   "name": "myenv"
  },
  "language_info": {
   "codemirror_mode": {
    "name": "ipython",
    "version": 3
   },
   "file_extension": ".py",
   "mimetype": "text/x-python",
   "name": "python",
   "nbconvert_exporter": "python",
   "pygments_lexer": "ipython3",
   "version": "3.7.6"
  }
 },
 "nbformat": 4,
 "nbformat_minor": 4
}
